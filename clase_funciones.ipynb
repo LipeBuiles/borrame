{
  "nbformat": 4,
  "nbformat_minor": 0,
  "metadata": {
    "colab": {
      "name": "Untitled37.ipynb",
      "provenance": [],
      "collapsed_sections": [],
      "authorship_tag": "ABX9TyPr++kdRTX+LV2hcVFZpdJr",
      "include_colab_link": true
    },
    "kernelspec": {
      "name": "python3",
      "display_name": "Python 3"
    },
    "language_info": {
      "name": "python"
    }
  },
  "cells": [
    {
      "cell_type": "markdown",
      "metadata": {
        "id": "view-in-github",
        "colab_type": "text"
      },
      "source": [
        "<a href=\"https://colab.research.google.com/github/elpinchepastel/borrame/blob/main/clase_funciones.ipynb\" target=\"_parent\"><img src=\"https://colab.research.google.com/assets/colab-badge.svg\" alt=\"Open In Colab\"/></a>"
      ]
    },
    {
      "cell_type": "code",
      "metadata": {
        "id": "Q4i5cHX7VhPr"
      },
      "source": [
        "# !n = 1*2*3...*n"
      ],
      "execution_count": 1,
      "outputs": []
    },
    {
      "cell_type": "code",
      "metadata": {
        "colab": {
          "base_uri": "https://localhost:8080/"
        },
        "id": "b2s-Spm3WczK",
        "outputId": "1555e07c-39f5-44b9-f6b0-814c69c6ffc7"
      },
      "source": [
        "valor = int(input('Ingrese el valor de n para el factorial'))"
      ],
      "execution_count": 20,
      "outputs": [
        {
          "output_type": "stream",
          "text": [
            "Ingrese el valor de n para el factorial5\n"
          ],
          "name": "stdout"
        }
      ]
    },
    {
      "cell_type": "code",
      "metadata": {
        "id": "1l-Mozk0Wwyg"
      },
      "source": [
        "n = 1\n",
        "factorial = 1\n",
        "while n<=valor: \n",
        "  factorial = factorial * n\n",
        "  n = n + 1"
      ],
      "execution_count": 21,
      "outputs": []
    },
    {
      "cell_type": "code",
      "metadata": {
        "colab": {
          "base_uri": "https://localhost:8080/"
        },
        "id": "VA06sz8wXWqG",
        "outputId": "fc4e8f78-5482-4aaa-cd05-cf309e98bf8c"
      },
      "source": [
        "print(factorial)"
      ],
      "execution_count": 22,
      "outputs": [
        {
          "output_type": "stream",
          "text": [
            "120\n"
          ],
          "name": "stdout"
        }
      ]
    },
    {
      "cell_type": "code",
      "metadata": {
        "id": "J30U0KQRYoGN"
      },
      "source": [
        "def n_fact(valor):\n",
        "  if valor<=0:\n",
        "    return print('El valor ingresado es menor que 1 y no se puede calcular el factorial')\n",
        "  else:\n",
        "    n = 1\n",
        "    factorial = 1\n",
        "    while n<=valor: \n",
        "      factorial = factorial * n\n",
        "      n = n + 1\n",
        "    \n",
        "    return print('El resultado factorial de {0} es: {1}'.format(n-1, factorial))"
      ],
      "execution_count": 41,
      "outputs": []
    },
    {
      "cell_type": "code",
      "metadata": {
        "colab": {
          "base_uri": "https://localhost:8080/"
        },
        "id": "lhbgrLzlZVfB",
        "outputId": "30825b23-8689-487f-f1e7-2989f48428b8"
      },
      "source": [
        "n_fact(int(input('Ingrese el valor de n para el factorial: ')))"
      ],
      "execution_count": 42,
      "outputs": [
        {
          "output_type": "stream",
          "text": [
            "Ingrese el valor de n para el factorial: 5\n",
            "El resultado factorial de 5 es: 120\n"
          ],
          "name": "stdout"
        }
      ]
    },
    {
      "cell_type": "code",
      "metadata": {
        "id": "AKwNyZB0Zz_p"
      },
      "source": [
        "def year_leap(num):\n",
        "    if (num%4==0 and num%100!=0) or (num%400==0):\n",
        "        return \"El año: {0}, si es biciesto\".format(num)\n",
        "    else:\n",
        "        if (num%4==0) and (num%100!=num or num%400):\n",
        "            return \"El año: {0}, si es biciesto\".format(num)\n",
        "        else:\n",
        "            return \"El año: {0}, no es biciesto\".format(num)"
      ],
      "execution_count": null,
      "outputs": []
    },
    {
      "cell_type": "code",
      "metadata": {
        "id": "l-loDEqocS88"
      },
      "source": [
        "def ano_biciesto(num_ano):\n",
        "  if (num_ano%4==0 and num_ano%100!=0) or (num_ano%400==0):\n",
        "    return 'El año {0} es biciesto'.format(num_ano)\n",
        "  else:\n",
        "    if (num_ano%4==0) and (num_ano%100!=0 or num_ano%400==0):\n",
        "      return 'El año {0} es biciesto'.format(num_ano)\n",
        "    else:\n",
        "      return 'El año {0} NO es biciesto'.format(num_ano)\n"
      ],
      "execution_count": 47,
      "outputs": []
    },
    {
      "cell_type": "code",
      "metadata": {
        "colab": {
          "base_uri": "https://localhost:8080/",
          "height": 35
        },
        "id": "1ZYpb9wmeaSe",
        "outputId": "88d99853-4365-41b8-b488-5c2424203b1b"
      },
      "source": [
        "ano_biciesto(2000)"
      ],
      "execution_count": 49,
      "outputs": [
        {
          "output_type": "execute_result",
          "data": {
            "application/vnd.google.colaboratory.intrinsic+json": {
              "type": "string"
            },
            "text/plain": [
              "'El año 2000 es biciesto'"
            ]
          },
          "metadata": {
            "tags": []
          },
          "execution_count": 49
        }
      ]
    },
    {
      "cell_type": "code",
      "metadata": {
        "id": "qLGV4q6ZegYA"
      },
      "source": [
        "def serie(number):\n",
        "    lista = list(range(1,number+1))\n",
        "    total = 0\n",
        "    for i in range(1,number+1):\n",
        "        total = i+total\n",
        "    promedio = total/number\n",
        "    return lista, total, promedio"
      ],
      "execution_count": null,
      "outputs": []
    },
    {
      "cell_type": "code",
      "metadata": {
        "colab": {
          "base_uri": "https://localhost:8080/"
        },
        "id": "JGYdBZSLfTRc",
        "outputId": "bf98b8cc-a9ff-4eda-e053-bcc7fb98495b"
      },
      "source": [
        "x= (list(range(1,101)))\n",
        "print(sum(x))"
      ],
      "execution_count": 51,
      "outputs": [
        {
          "output_type": "stream",
          "text": [
            "5050\n"
          ],
          "name": "stdout"
        }
      ]
    },
    {
      "cell_type": "code",
      "metadata": {
        "id": "9j_u-s8efZLU"
      },
      "source": [
        "import statistics\n",
        "def calculos(num):\n",
        "  lista_num = list(range(1,num+1))\n",
        "  sumatoria = sum(lista_num)\n",
        "  promedio = statistics.mean(lista_num)\n",
        "  return lista_num, sumatoria, promedio"
      ],
      "execution_count": 53,
      "outputs": []
    },
    {
      "cell_type": "code",
      "metadata": {
        "colab": {
          "base_uri": "https://localhost:8080/"
        },
        "id": "XIcXFCzhgrie",
        "outputId": "99d2232b-592a-4c89-dd77-347c284b82d4"
      },
      "source": [
        "pos_cal = calculos(int(input('Ingrese un número:')))\n",
        "print('La lista es {0}, el suma es {1} y el promedio es {2}'.format(pos_cal[0],pos_cal[1],pos_cal[2]))"
      ],
      "execution_count": 63,
      "outputs": [
        {
          "output_type": "stream",
          "text": [
            "Ingrese un número:20\n",
            "La lista es [1, 2, 3, 4, 5, 6, 7, 8, 9, 10, 11, 12, 13, 14, 15, 16, 17, 18, 19, 20], el suma es 210 y el promedio es 10.5\n"
          ],
          "name": "stdout"
        }
      ]
    },
    {
      "cell_type": "code",
      "metadata": {
        "id": "XOERJKM3g8vo"
      },
      "source": [
        ""
      ],
      "execution_count": null,
      "outputs": []
    }
  ]
}